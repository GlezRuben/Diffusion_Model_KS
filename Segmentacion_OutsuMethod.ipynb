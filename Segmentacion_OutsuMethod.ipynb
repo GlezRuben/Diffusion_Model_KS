{
  "nbformat": 4,
  "nbformat_minor": 0,
  "metadata": {
    "colab": {
      "provenance": [],
      "authorship_tag": "ABX9TyOqTA5YKAC2kry++qHx30gQ",
      "include_colab_link": true
    },
    "kernelspec": {
      "name": "python3",
      "display_name": "Python 3"
    },
    "language_info": {
      "name": "python"
    }
  },
  "cells": [
    {
      "cell_type": "markdown",
      "metadata": {
        "id": "view-in-github",
        "colab_type": "text"
      },
      "source": [
        "<a href=\"https://colab.research.google.com/github/GlezRuben/Diffusion_Model_KS/blob/main/Segmentacion_OutsuMethod.ipynb\" target=\"_parent\"><img src=\"https://colab.research.google.com/assets/colab-badge.svg\" alt=\"Open In Colab\"/></a>"
      ]
    },
    {
      "cell_type": "markdown",
      "source": [
        "## Region growing algorithm:\n"
      ],
      "metadata": {
        "id": "htGs94glXJ2M"
      }
    },
    {
      "cell_type": "code",
      "execution_count": 7,
      "metadata": {
        "colab": {
          "base_uri": "https://localhost:8080/"
        },
        "id": "bju6gjzAW6BS",
        "outputId": "6e05f48a-d9ae-462f-951e-78b9f7e3880b"
      },
      "outputs": [
        {
          "output_type": "stream",
          "name": "stdout",
          "text": [
            "Otsu's algorithm implementation thresholding result:  103.720703125\n",
            "Otsu's algorithm implementation thresholding result:  117.166015625\n",
            "Otsu's algorithm implementation thresholding result:  84.248046875\n",
            "Otsu's algorithm implementation thresholding result:  117.162109375\n",
            "Otsu's algorithm implementation thresholding result:  113.203125\n",
            "Otsu's algorithm implementation thresholding result:  78.626953125\n",
            "Otsu's algorithm implementation thresholding result:  107.927734375\n",
            "Otsu's algorithm implementation thresholding result:  89.86328125\n",
            "Otsu's algorithm implementation thresholding result:  77.353515625\n",
            "Otsu's algorithm implementation thresholding result:  105.806640625\n",
            "Otsu's algorithm implementation thresholding result:  125.640625\n",
            "Otsu's algorithm implementation thresholding result:  104.0859375\n",
            "Otsu's algorithm implementation thresholding result:  108.3203125\n",
            "Otsu's algorithm implementation thresholding result:  99.8828125\n",
            "Otsu's algorithm implementation thresholding result:  104.931640625\n",
            "Otsu's algorithm implementation thresholding result:  127.384765625\n",
            "Otsu's algorithm implementation thresholding result:  121.7109375\n",
            "Otsu's algorithm implementation thresholding result:  89.349609375\n",
            "Otsu's algorithm implementation thresholding result:  112.537109375\n",
            "Otsu's algorithm implementation thresholding result:  98.376953125\n",
            "Otsu's algorithm implementation thresholding result:  115.697265625\n",
            "Otsu's algorithm implementation thresholding result:  83.83984375\n",
            "Otsu's algorithm implementation thresholding result:  60.01953125\n",
            "Otsu's algorithm implementation thresholding result:  58.9375\n",
            "Otsu's algorithm implementation thresholding result:  64.71484375\n",
            "Otsu's algorithm implementation thresholding result:  72.076171875\n",
            "Otsu's algorithm implementation thresholding result:  102.923828125\n",
            "Otsu's algorithm implementation thresholding result:  86.1484375\n",
            "Otsu's algorithm implementation thresholding result:  59.634765625\n"
          ]
        }
      ],
      "source": [
        "import numpy as np\n",
        "import cv2\n",
        "from google.colab.patches import cv2_imshow\n",
        "\n",
        "for i in range(1,30):\n",
        "  # Read the image in a grayscale mode\n",
        "  num = str(i)\n",
        "  img_path = 'Generated_' + num + \".png\"\n",
        "  img = cv2.imread(img_path)\n",
        "  #cv2_imshow(img)\n",
        "  image = cv2.cvtColor(img, cv2.COLOR_BGR2GRAY)\n",
        "\n",
        "  # Set total number of bins in the histogram\n",
        "  bins_num = 256\n",
        "\n",
        "  # Get the image histogram\n",
        "  hist, bin_edges = np.histogram(image, bins=bins_num)\n",
        "\n",
        "  # Get normalized histogram if it is required\n",
        "  hist = np.divide(hist.ravel(), hist.max())\n",
        "\n",
        "  # Calculate centers of bins\n",
        "  bin_mids = (bin_edges[:-1] + bin_edges[1:]) / 2.\n",
        "\n",
        "  # Iterate over all thresholds (indices) and get the probabilities w1(t), w2(t)\n",
        "  weight1 = np.cumsum(hist)\n",
        "  weight2 = np.cumsum(hist[::-1])[::-1]\n",
        "\n",
        "  # Get the class means mu0(t)\n",
        "  mean1 = np.cumsum(hist * bin_mids) / weight1\n",
        "  # Get the class means mu1(t)\n",
        "  mean2 = (np.cumsum((hist * bin_mids)[::-1]) / weight2[::-1])[::-1]\n",
        "\n",
        "  inter_class_variance = weight1[:-1] * weight2[1:] * (mean1[:-1] - mean2[1:]) ** 2\n",
        "\n",
        "  # Maximize the inter_class_variance function val\n",
        "  index_of_max_val = np.argmax(inter_class_variance)\n",
        "\n",
        "  threshold_value = bin_mids[:-1][index_of_max_val]\n",
        "  print(\"Otsu's algorithm implementation thresholding result: \", threshold_value)\n",
        "\n",
        "  _, binary_image = cv2.threshold(image, threshold_value, 255, cv2.THRESH_BINARY)\n",
        "  cv2.imwrite('Segmented_Generated_' + num + \".png\", binary_image)"
      ]
    },
    {
      "cell_type": "code",
      "source": [],
      "metadata": {
        "id": "KrHSwXEeYDKA"
      },
      "execution_count": null,
      "outputs": []
    }
  ]
}